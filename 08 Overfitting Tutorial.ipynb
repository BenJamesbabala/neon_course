{
 "cells": [
  {
   "cell_type": "code",
   "execution_count": null,
   "metadata": {
    "collapsed": false
   },
   "outputs": [],
   "source": [
    "from neon.initializers import Gaussian\n",
    "from neon.optimizers import GradientDescentMomentum, Schedule\n",
    "from neon.layers import Conv, Dropout, Activation, Pooling, GeneralizedCost\n",
    "from neon.transforms import Rectlin, Softmax, CrossEntropyMulti, Misclassification\n",
    "from neon.models import Model\n",
    "from neon.data import ArrayIterator, load_cifar10\n",
    "from neon.callbacks.callbacks import Callbacks\n",
    "from neon.backends import gen_backend\n",
    "\n",
    "be = gen_backend(batch_size=128, backend='gpu')\n",
    "\n",
    "# hyperparameters\n",
    "learning_rate = 0.05\n",
    "weight_decay = 0.001\n",
    "num_epochs = 25\n",
    "data_dir = 'data/cifar10_batches'\n",
    "\n",
    "print \"Loading Data\"\n",
    "(X_train, y_train), (X_test, y_test), nclass = load_cifar10(path=data_dir,\n",
    "                                                            normalize=False,\n",
    "                                                            contrast_normalize=True,\n",
    "                                                            whiten=True)\n",
    "\n",
    "# really 10 classes, pad to nearest power of 2 to match conv output\n",
    "train_set = ArrayIterator(X_train, y_train, nclass=16, lshape=(3, 32, 32))\n",
    "valid_set = ArrayIterator(X_test, y_test, nclass=16, lshape=(3, 32, 32))\n",
    "\n",
    "\n",
    "print \"Building Model\"\n",
    "init_uni = Gaussian(scale=0.05)\n",
    "opt_gdm = GradientDescentMomentum(learning_rate=float(learning_rate), momentum_coef=0.9,\n",
    "                                  wdecay=float(weight_decay),\n",
    "                                  schedule=Schedule(step_config=[200, 250, 300], change=0.1))\n",
    "\n",
    "relu = Rectlin()\n",
    "conv = dict(init=init_uni, batch_norm=False, activation=relu)\n",
    "convp1 = dict(init=init_uni, batch_norm=False, activation=relu, padding=1)\n",
    "convp1s2 = dict(init=init_uni, batch_norm=False, activation=relu, padding=1, strides=2)\n",
    "\n",
    "layers = [\n",
    "#           Dropout(keep=.8),\n",
    "          Conv((3, 3, 64), **convp1),\n",
    "          Conv((3, 3, 64), **convp1s2),\n",
    "#           Dropout(keep=.5),\n",
    "          Conv((3, 3, 128), **convp1),\n",
    "          Conv((3, 3, 128), **convp1s2),\n",
    "#           Dropout(keep=.5),\n",
    "          Conv((3, 3, 128), **convp1),\n",
    "          Conv((1, 1, 128), **conv),\n",
    "          Conv((1, 1, 16), **conv),\n",
    "          Pooling(8, op=\"avg\"),\n",
    "          Activation(Softmax())]\n",
    "\n",
    "cost = GeneralizedCost(costfunc=CrossEntropyMulti())\n",
    "\n",
    "mlp = Model(layers=layers)\n",
    "\n",
    "\n",
    "# configure callbacks\n",
    "callbacks = Callbacks(mlp, output_file='data.h5', eval_set=valid_set, eval_freq=1)\n",
    "\n",
    "print \"Training\"\n",
    "mlp.fit(train_set, optimizer=opt_gdm, num_epochs=num_epochs, cost=cost, callbacks=callbacks)\n",
    "\n",
    "print('Misclassification error = %.1f%%' % (mlp.eval(valid_set, metric=Misclassification())*100))"
   ]
  },
  {
   "cell_type": "code",
   "execution_count": null,
   "metadata": {
    "collapsed": false
   },
   "outputs": [],
   "source": [
    "from neon.visualizations.figure import cost_fig, hist_fig, deconv_summary_page\n",
    "from neon.visualizations.data import h5_cost_data, h5_hist_data, h5_deconv_data\n",
    "from bokeh.plotting import output_notebook, show\n",
    "\n",
    "cost_data = h5_cost_data('data.h5', False)\n",
    "output_notebook()\n",
    "show(cost_fig(cost_data, 400, 800, epoch_axis=False))"
   ]
  },
  {
   "cell_type": "code",
   "execution_count": null,
   "metadata": {
    "collapsed": true
   },
   "outputs": [],
   "source": []
  }
 ],
 "metadata": {
  "kernelspec": {
   "display_name": "Python 2",
   "language": "python",
   "name": "python2"
  },
  "language_info": {
   "codemirror_mode": {
    "name": "ipython",
    "version": 2
   },
   "file_extension": ".py",
   "mimetype": "text/x-python",
   "name": "python",
   "nbconvert_exporter": "python",
   "pygments_lexer": "ipython2",
   "version": "2.7.6"
  }
 },
 "nbformat": 4,
 "nbformat_minor": 0
}
